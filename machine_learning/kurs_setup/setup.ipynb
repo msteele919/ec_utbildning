{
 "cells": [
  {
   "cell_type": "code",
   "execution_count": 1,
   "metadata": {},
   "outputs": [
    {
     "name": "stdout",
     "output_type": "stream",
     "text": [
      "hello World\n"
     ]
    }
   ],
   "source": [
    "print(\"hello World\")"
   ]
  },
  {
   "cell_type": "code",
   "execution_count": 3,
   "metadata": {},
   "outputs": [],
   "source": [
    "import numpy as np "
   ]
  },
  {
   "cell_type": "code",
   "execution_count": 5,
   "metadata": {},
   "outputs": [
    {
     "name": "stdout",
     "output_type": "stream",
     "text": [
      "-7\n"
     ]
    }
   ],
   "source": [
    "x = 4 \n",
    "y = 3\n",
    "z = -(x+y)\n",
    "print(z)\n"
   ]
  },
  {
   "cell_type": "code",
   "execution_count": 6,
   "metadata": {},
   "outputs": [
    {
     "name": "stdout",
     "output_type": "stream",
     "text": [
      "True\n"
     ]
    }
   ],
   "source": [
    "print(10 > 5)"
   ]
  },
  {
   "cell_type": "code",
   "execution_count": 8,
   "metadata": {},
   "outputs": [
    {
     "name": "stdout",
     "output_type": "stream",
     "text": [
      "[9, 16, 25]\n"
     ]
    }
   ],
   "source": [
    "numbers = [1,2,3,4,5]\n",
    "\n",
    "new_list = [x**2 for x in numbers if x >= 3]\n",
    "print(new_list)"
   ]
  },
  {
   "attachments": {},
   "cell_type": "markdown",
   "metadata": {},
   "source": [
    "What are tuples and why? "
   ]
  },
  {
   "cell_type": "code",
   "execution_count": 9,
   "metadata": {},
   "outputs": [],
   "source": [
    "tuple = (1,2,3,\"thanks\", \"dog\")"
   ]
  },
  {
   "cell_type": "code",
   "execution_count": 11,
   "metadata": {},
   "outputs": [
    {
     "data": {
      "text/plain": [
       "'dog'"
      ]
     },
     "execution_count": 11,
     "metadata": {},
     "output_type": "execute_result"
    }
   ],
   "source": [
    "tuple[4]"
   ]
  },
  {
   "attachments": {},
   "cell_type": "markdown",
   "metadata": {},
   "source": [
    "SETs"
   ]
  },
  {
   "cell_type": "code",
   "execution_count": 13,
   "metadata": {},
   "outputs": [],
   "source": [
    "A = {1,2,3,4}\n",
    "B = {3,2}"
   ]
  },
  {
   "attachments": {},
   "cell_type": "markdown",
   "metadata": {},
   "source": [
    "union allows one to see the total amount of possible values\n",
    "intersection allows one see see the intersection, those values which are contained within both. \n",
    "\n",
    "\n",
    "Difference - A.difference(B) finds those elements that arewithin A but not in B"
   ]
  },
  {
   "cell_type": "code",
   "execution_count": 21,
   "metadata": {},
   "outputs": [
    {
     "name": "stdout",
     "output_type": "stream",
     "text": [
      "{1, 2, 3, 4}\n",
      "{2, 3}\n",
      "{1, 4}\n"
     ]
    }
   ],
   "source": [
    "print(A.union(B))\n",
    "print(B.intersection(A))\n",
    "print(A.difference(B))"
   ]
  },
  {
   "attachments": {},
   "cell_type": "markdown",
   "metadata": {},
   "source": [
    "return multiple values"
   ]
  },
  {
   "cell_type": "code",
   "execution_count": 23,
   "metadata": {},
   "outputs": [],
   "source": [
    "def f(z):\n",
    "    return (x, x**2, x**3)"
   ]
  },
  {
   "cell_type": "code",
   "execution_count": 36,
   "metadata": {},
   "outputs": [
    {
     "name": "stdout",
     "output_type": "stream",
     "text": [
      "(4, 16, 64)\n",
      "4\n",
      "{4: (4, 16, 64), 5: (4, 16, 64)}\n"
     ]
    }
   ],
   "source": [
    "first_method = f(3)\n",
    "\n",
    "print(first_method)\n",
    "\n",
    "x1, x2, x3 = f(4)\n",
    "print(x1)\n",
    "\n",
    "results = {} \n",
    "results[4] = (x1, x2, x3)\n",
    "\n",
    "x4, x5, x6 = f(5)\n",
    "results[5] = (x4, x5, x6)\n",
    "\n",
    "print(results)"
   ]
  },
  {
   "attachments": {},
   "cell_type": "markdown",
   "metadata": {},
   "source": [
    "Classes "
   ]
  },
  {
   "cell_type": "code",
   "execution_count": 46,
   "metadata": {},
   "outputs": [],
   "source": [
    "class MyClass: \n",
    "\n",
    "    Teacher = 'Antonio' # creating a class variable shared by all instances \n",
    "    \n",
    "    def __init__(self, name_of_student, age_of_student):\n",
    "        self.name = name_of_student\n",
    "        self.age = age_of_student\n",
    "\n",
    "    def add_grade(self, grade): \n",
    "        self.grade = grade "
   ]
  },
  {
   "attachments": {},
   "cell_type": "markdown",
   "metadata": {},
   "source": [
    "Attributes- här använder man instance attributes när man create instances av classen. student1 och student2 är instances och ('Kate', 22) är en instance attribute. \n",
    "\n",
    "\n",
    "Note how we are utilizing the __init__ capabilities of the class, where we only call the class who has self capabilities of holding student names. \n",
    "\n"
   ]
  },
  {
   "cell_type": "code",
   "execution_count": null,
   "metadata": {},
   "outputs": [],
   "source": []
  },
  {
   "cell_type": "code",
   "execution_count": 57,
   "metadata": {},
   "outputs": [
    {
     "name": "stdout",
     "output_type": "stream",
     "text": [
      "Kate\n",
      "22\n",
      "Antonio\n"
     ]
    }
   ],
   "source": [
    "student1 = MyClass('Kate', 22)\n",
    "student2 = MyClass('Geof', 23)\n",
    "\n",
    "print(student1.name) #accessing the init instance from student 1\n",
    "print(student1.age)\n",
    "print(student1.Teacher) #using the class variable"
   ]
  },
  {
   "cell_type": "code",
   "execution_count": 54,
   "metadata": {},
   "outputs": [
    {
     "data": {
      "text/plain": [
       "'A'"
      ]
     },
     "execution_count": 54,
     "metadata": {},
     "output_type": "execute_result"
    }
   ],
   "source": [
    "student3 = MyClass('Anna', 45) #creating an instance\n",
    "student3.add_grade('A') # accessing the MyClass method add_grade to modify the state of student3 by assigning it a grade.\n",
    "student3.grade"
   ]
  },
  {
   "attachments": {},
   "cell_type": "markdown",
   "metadata": {},
   "source": [
    "class Inheritance\n",
    "   One class can access another class' information (methods, instances, etc.) we can access methods, perhaps instances from other classes in a cla"
   ]
  },
  {
   "cell_type": "code",
   "execution_count": null,
   "metadata": {},
   "outputs": [],
   "source": []
  },
  {
   "cell_type": "code",
   "execution_count": null,
   "metadata": {},
   "outputs": [],
   "source": [
    "class TheParent:¨\n",
    "    def is_it_a_pet(self, answer):\n",
    "    self.pet = answer \n"
   ]
  }
 ],
 "metadata": {
  "kernelspec": {
   "display_name": "base",
   "language": "python",
   "name": "python3"
  },
  "language_info": {
   "codemirror_mode": {
    "name": "ipython",
    "version": 3
   },
   "file_extension": ".py",
   "mimetype": "text/x-python",
   "name": "python",
   "nbconvert_exporter": "python",
   "pygments_lexer": "ipython3",
   "version": "3.9.13"
  },
  "orig_nbformat": 4,
  "vscode": {
   "interpreter": {
    "hash": "da1b8e97b7d69cd0822dd49923a78d956c570e1c5e554b0a6e290fb433c2c1eb"
   }
  }
 },
 "nbformat": 4,
 "nbformat_minor": 2
}
