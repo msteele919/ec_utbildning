{
 "cells": [
  {
   "cell_type": "markdown",
   "id": "4bd78983",
   "metadata": {},
   "source": [
    "# Demonstration of Hyperparameters and Parameters\n",
    "**Hyperparameter: \"A Parameter used to control the learning process\". Answers the question: \"How shall we learn?\".** \n",
    "\n",
    "**Parameter: \"Derived from training\". Answers the question: \"What have we learned?\".**"
   ]
  },
  {
   "cell_type": "code",
   "execution_count": 1,
   "id": "a48bab17",
   "metadata": {},
   "outputs": [],
   "source": [
    "import numpy as np\n",
    "import pandas as pd\n",
    "import matplotlib.pyplot as plt \n",
    "\n",
    "from sklearn.linear_model import LinearRegression"
   ]
  },
  {
   "cell_type": "markdown",
   "id": "084792e6",
   "metadata": {},
   "source": [
    "# Generating Random Data"
   ]
  },
  {
   "cell_type": "code",
   "execution_count": 2,
   "id": "4191dfd9",
   "metadata": {},
   "outputs": [
    {
     "data": {
      "text/plain": [
       "<matplotlib.collections.PathCollection at 0x1be7b0c4910>"
      ]
     },
     "execution_count": 2,
     "metadata": {},
     "output_type": "execute_result"
    },
    {
     "data": {
      "image/png": "[encoded data removed]",
      "text/plain": [
       "<Figure size 432x288 with 1 Axes>"
      ]
     },
     "metadata": {
      "needs_background": "light"
     },
     "output_type": "display_data"
    }
   ],
   "source": [
    "np.random.seed(42)\n",
    "X = 2 * np.random.rand(100, 1)\n",
    "y = 4 + 3 * X + np.random.randn(100, 1)\n",
    "\n",
    "plt.scatter(X, y)"
   ]
  },
  {
   "cell_type": "markdown",
   "id": "ae61f709",
   "metadata": {},
   "source": [
    "# Estimating Our Model and Inspecting Parameters"
   ]
  },
  {
   "cell_type": "code",
   "execution_count": 3,
   "id": "fc852b3b",
   "metadata": {},
   "outputs": [
    {
     "data": {
      "text/plain": [
       "LinearRegression()"
      ]
     },
     "execution_count": 3,
     "metadata": {},
     "output_type": "execute_result"
    }
   ],
   "source": [
    "# Demonstrating that we initialize and then fit our model.\n",
    "lin_reg = LinearRegression(fit_intercept = True)  # We set the hyperparameter fit_intercept = True. \n",
    "lin_reg.fit(X, y) "
   ]
  },
  {
   "cell_type": "code",
   "execution_count": 4,
   "id": "47e51529",
   "metadata": {},
   "outputs": [
    {
     "data": {
      "text/plain": [
       "{'copy_X': True,\n",
       " 'fit_intercept': True,\n",
       " 'n_jobs': None,\n",
       " 'normalize': 'deprecated',\n",
       " 'positive': False}"
      ]
     },
     "execution_count": 4,
     "metadata": {},
     "output_type": "execute_result"
    }
   ],
   "source": [
    "# Checking our Hyper-parameters and their corresponding default values in this case. \n",
    "lin_reg.get_params()"
   ]
  },
  {
   "cell_type": "code",
   "execution_count": 5,
   "id": "d1c4c9f8",
   "metadata": {},
   "outputs": [
    {
     "name": "stdout",
     "output_type": "stream",
     "text": [
      "[4.21509616] [[2.77011339]]\n"
     ]
    }
   ],
   "source": [
    "# Learned parameters are accessed using a suffix. \n",
    "print(lin_reg.intercept_, lin_reg.coef_)"
   ]
  },
  {
   "cell_type": "markdown",
   "id": "533be5b4",
   "metadata": {},
   "source": [
    "# Making Predictions With Our Model"
   ]
  },
  {
   "cell_type": "code",
   "execution_count": 6,
   "id": "701e67c1",
   "metadata": {},
   "outputs": [],
   "source": [
    "X_new = np.array([[0], [1], [2]])"
   ]
  },
  {
   "cell_type": "code",
   "execution_count": 7,
   "id": "ab0a5d79",
   "metadata": {},
   "outputs": [
    {
     "name": "stdout",
     "output_type": "stream",
     "text": [
      "[[4.21509616]\n",
      " [6.98520954]\n",
      " [9.75532293]]\n"
     ]
    }
   ],
   "source": [
    "# lin_reg is now used as a predictor. \n",
    "y_pred_lr = lin_reg.predict(X_new)\n",
    "print(y_pred_lr)"
   ]
  },
  {
   "cell_type": "code",
   "execution_count": 8,
   "id": "7fdc1af9",
   "metadata": {},
   "outputs": [
    {
     "data": {
      "text/plain": [
       "<matplotlib.legend.Legend at 0x1be7b1fcd60>"
      ]
     },
     "execution_count": 8,
     "metadata": {},
     "output_type": "execute_result"
    },
    {
     "data": {
      "image/png": "[encoded data removed]",
      "text/plain": [
       "<Figure size 432x288 with 1 Axes>"
      ]
     },
     "metadata": {
      "needs_background": "light"
     },
     "output_type": "display_data"
    }
   ],
   "source": [
    "fig, ax = plt.subplots()\n",
    "ax.set_title(\"Linear Regression\")\n",
    "ax.scatter(X, y, label = \"data\")\n",
    "ax.plot(X_new, y_pred_lr, 'r', label = 'Predictions')\n",
    "ax.legend()"
   ]
  },
  {
   "cell_type": "code",
   "execution_count": null,
   "id": "2db2085a",
   "metadata": {},
   "outputs": [],
   "source": []
  }
 ],
 "metadata": {
  "kernelspec": {
   "display_name": "Python 3 (ipykernel)",
   "language": "python",
   "name": "python3"
  },
  "language_info": {
   "codemirror_mode": {
    "name": "ipython",
    "version": 3
   },
   "file_extension": ".py",
   "mimetype": "text/x-python",
   "name": "python",
   "nbconvert_exporter": "python",
   "pygments_lexer": "ipython3",
   "version": "3.8.0"
  }
 },
 "nbformat": 4,
 "nbformat_minor": 5
}
