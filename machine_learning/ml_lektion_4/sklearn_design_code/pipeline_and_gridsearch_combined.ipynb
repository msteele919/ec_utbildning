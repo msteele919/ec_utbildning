{
 "cells": [
  {
   "cell_type": "code",
   "execution_count": null,
   "id": "cd0a5820",
   "metadata": {},
   "outputs": [],
   "source": []
  },
  {
   "cell_type": "markdown",
   "id": "b4633d7b",
   "metadata": {},
   "source": [
    "# Gridsearch with a Pipeline"
   ]
  },
  {
   "cell_type": "code",
   "execution_count": 1,
   "id": "fe1cccc4",
   "metadata": {},
   "outputs": [],
   "source": [
    "import numpy as np\n",
    "import pandas as pd\n",
    "import matplotlib.pyplot as plt \n",
    "\n",
    "from sklearn.preprocessing import PolynomialFeatures\n",
    "from sklearn.pipeline import Pipeline\n",
    "\n",
    "from sklearn.linear_model import LinearRegression\n",
    "from sklearn.linear_model import Ridge\n",
    "from sklearn.linear_model import Lasso\n",
    "\n",
    "from sklearn.model_selection import GridSearchCV"
   ]
  },
  {
   "cell_type": "code",
   "execution_count": null,
   "id": "fc859d7f",
   "metadata": {},
   "outputs": [],
   "source": []
  },
  {
   "cell_type": "code",
   "execution_count": 2,
   "id": "34153eab",
   "metadata": {},
   "outputs": [
    {
     "data": {
      "text/plain": [
       "<matplotlib.collections.PathCollection at 0x1a0d88dd430>"
      ]
     },
     "execution_count": 2,
     "metadata": {},
     "output_type": "execute_result"
    },
    {
     "data": {
      "image/png": "[encoded data removed]",
      "text/plain": [
       "<Figure size 432x288 with 1 Axes>"
      ]
     },
     "metadata": {
      "needs_background": "light"
     },
     "output_type": "display_data"
    }
   ],
   "source": [
    "np.random.seed(42)\n",
    "X = 5 * np.random.rand(100, 1) - 3\n",
    "y = 0.6*X**3 + 0.6 * X**2 + 0.7*X + 2 + np.random.randn(100, 1)\n",
    "\n",
    "plt.scatter(X, y)"
   ]
  },
  {
   "cell_type": "code",
   "execution_count": 3,
   "id": "07e2aaae",
   "metadata": {},
   "outputs": [],
   "source": [
    "X_new = np.linspace(-3, 2.5, 100).reshape(-1, 1)"
   ]
  },
  {
   "cell_type": "code",
   "execution_count": 4,
   "id": "073f4fcf",
   "metadata": {},
   "outputs": [],
   "source": [
    "pipe = Pipeline(steps=[\n",
    "    ('poly_features', PolynomialFeatures(degree=2, include_bias=False)),\n",
    "    ('regression', Ridge(alpha=1))\n",
    "])\n",
    "\n",
    "y_lr = pipe.fit(X, y)\n",
    "y_lr_pred = y_lr.predict(X_new)"
   ]
  },
  {
   "cell_type": "code",
   "execution_count": 5,
   "id": "a5fd8ad9",
   "metadata": {},
   "outputs": [
    {
     "data": {
      "text/plain": [
       "{'memory': None,\n",
       " 'steps': [('poly_features', PolynomialFeatures(include_bias=False)),\n",
       "  ('regression', Ridge(alpha=1))],\n",
       " 'verbose': False,\n",
       " 'poly_features': PolynomialFeatures(include_bias=False),\n",
       " 'regression': Ridge(alpha=1),\n",
       " 'poly_features__degree': 2,\n",
       " 'poly_features__include_bias': False,\n",
       " 'poly_features__interaction_only': False,\n",
       " 'poly_features__order': 'C',\n",
       " 'regression__alpha': 1,\n",
       " 'regression__copy_X': True,\n",
       " 'regression__fit_intercept': True,\n",
       " 'regression__max_iter': None,\n",
       " 'regression__normalize': 'deprecated',\n",
       " 'regression__positive': False,\n",
       " 'regression__random_state': None,\n",
       " 'regression__solver': 'auto',\n",
       " 'regression__tol': 0.001}"
      ]
     },
     "execution_count": 5,
     "metadata": {},
     "output_type": "execute_result"
    }
   ],
   "source": [
    "# Checking what parameters we have and what they are called. Ex: \"poly_features__degree\" and \"regression__alpha\".\n",
    "pipe.get_params()"
   ]
  },
  {
   "cell_type": "code",
   "execution_count": 6,
   "id": "7283f1e6",
   "metadata": {},
   "outputs": [],
   "source": [
    "param_grid = [\n",
    "    {'poly_features__degree': [1, 2, 3, 4], 'regression__alpha': [0.5, 1, 1.5]}\n",
    "]\n",
    "\n",
    "grid_search = GridSearchCV(pipe, param_grid, cv = 3, scoring = 'neg_mean_squared_error')"
   ]
  },
  {
   "cell_type": "code",
   "execution_count": 7,
   "id": "a54058da",
   "metadata": {},
   "outputs": [
    {
     "data": {
      "text/plain": [
       "GridSearchCV(cv=3,\n",
       "             estimator=Pipeline(steps=[('poly_features',\n",
       "                                        PolynomialFeatures(include_bias=False)),\n",
       "                                       ('regression', Ridge(alpha=1))]),\n",
       "             param_grid=[{'poly_features__degree': [1, 2, 3, 4],\n",
       "                          'regression__alpha': [0.5, 1, 1.5]}],\n",
       "             scoring='neg_mean_squared_error')"
      ]
     },
     "execution_count": 7,
     "metadata": {},
     "output_type": "execute_result"
    }
   ],
   "source": [
    "grid_search.fit(X, y)"
   ]
  },
  {
   "cell_type": "code",
   "execution_count": 8,
   "id": "661531e4",
   "metadata": {},
   "outputs": [
    {
     "data": {
      "text/plain": [
       "Pipeline(steps=[('poly_features',\n",
       "                 PolynomialFeatures(degree=3, include_bias=False)),\n",
       "                ('regression', Ridge(alpha=1.5))])"
      ]
     },
     "execution_count": 8,
     "metadata": {},
     "output_type": "execute_result"
    }
   ],
   "source": [
    "grid_search.best_estimator_"
   ]
  },
  {
   "cell_type": "code",
   "execution_count": 9,
   "id": "829a2885",
   "metadata": {},
   "outputs": [],
   "source": [
    "# pd.DataFrame(grid_search.cv_results_)"
   ]
  },
  {
   "cell_type": "code",
   "execution_count": 10,
   "id": "758eea5e",
   "metadata": {},
   "outputs": [],
   "source": [
    "y_best_pred = grid_search.predict(X_new)"
   ]
  },
  {
   "cell_type": "code",
   "execution_count": 11,
   "id": "2bf223dc",
   "metadata": {},
   "outputs": [
    {
     "data": {
      "text/plain": [
       "<matplotlib.legend.Legend at 0x1a0d94cedf0>"
      ]
     },
     "execution_count": 11,
     "metadata": {},
     "output_type": "execute_result"
    },
    {
     "data": {
      "image/png": "[encoded data removed]",
      "text/plain": [
       "<Figure size 432x288 with 1 Axes>"
      ]
     },
     "metadata": {
      "needs_background": "light"
     },
     "output_type": "display_data"
    }
   ],
   "source": [
    "fig, ax = plt.subplots()\n",
    "ax.set_title(\"Linear Regression\")\n",
    "ax.scatter(X, y, label = \"data\")\n",
    "ax.plot(X_new, y_lr_pred, 'r', label = 'Degree 2')\n",
    "ax.plot(X_new, y_best_pred, 'b', label = 'Gridsearch')\n",
    "ax.legend()"
   ]
  },
  {
   "cell_type": "code",
   "execution_count": null,
   "id": "4a2c3e6b",
   "metadata": {},
   "outputs": [],
   "source": []
  }
 ],
 "metadata": {
  "kernelspec": {
   "display_name": "Python 3 (ipykernel)",
   "language": "python",
   "name": "python3"
  },
  "language_info": {
   "codemirror_mode": {
    "name": "ipython",
    "version": 3
   },
   "file_extension": ".py",
   "mimetype": "text/x-python",
   "name": "python",
   "nbconvert_exporter": "python",
   "pygments_lexer": "ipython3",
   "version": "3.8.0"
  }
 },
 "nbformat": 4,
 "nbformat_minor": 5
}
