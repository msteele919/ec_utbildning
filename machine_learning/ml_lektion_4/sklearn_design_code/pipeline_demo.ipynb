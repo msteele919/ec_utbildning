{
 "cells": [
  {
   "cell_type": "code",
   "execution_count": null,
   "id": "c1e236f2",
   "metadata": {},
   "outputs": [],
   "source": []
  },
  {
   "cell_type": "markdown",
   "id": "d88a5e0a",
   "metadata": {},
   "source": [
    "# Handling Missing Values and Creating Polynomial Features"
   ]
  },
  {
   "cell_type": "code",
   "execution_count": 1,
   "id": "5535b583",
   "metadata": {},
   "outputs": [],
   "source": [
    "import numpy as np\n",
    "from sklearn.impute import SimpleImputer"
   ]
  },
  {
   "cell_type": "code",
   "execution_count": 2,
   "id": "4ad87893",
   "metadata": {},
   "outputs": [
    {
     "name": "stdout",
     "output_type": "stream",
     "text": [
      "[[ 7.  2.  3.]\n",
      " [ 4. nan  6.]\n",
      " [10.  5.  9.]]\n"
     ]
    }
   ],
   "source": [
    "A = np.array([[7, 2, 3], [4, np.nan, 6], [10, 5, 9]])\n",
    "print(A)"
   ]
  },
  {
   "cell_type": "code",
   "execution_count": 3,
   "id": "a85e839a",
   "metadata": {},
   "outputs": [
    {
     "data": {
      "text/plain": [
       "array([7. , 3.5, 6. ])"
      ]
     },
     "execution_count": 3,
     "metadata": {},
     "output_type": "execute_result"
    }
   ],
   "source": [
    "# Compute the arithmetic mean along the specified axis, ignoring NaNs.\n",
    "np.nanmean(A, axis=0)"
   ]
  },
  {
   "cell_type": "code",
   "execution_count": null,
   "id": "9cd7e5a1",
   "metadata": {},
   "outputs": [],
   "source": []
  },
  {
   "cell_type": "code",
   "execution_count": 4,
   "id": "a73931f5",
   "metadata": {},
   "outputs": [
    {
     "data": {
      "text/plain": [
       "array([7. , 3.5, 6. ])"
      ]
     },
     "execution_count": 4,
     "metadata": {},
     "output_type": "execute_result"
    }
   ],
   "source": [
    "imp_mean = SimpleImputer(missing_values=np.nan, strategy='mean')\n",
    "\n",
    "imp_mean.fit(A)\n",
    "imp_mean.statistics_"
   ]
  },
  {
   "cell_type": "code",
   "execution_count": 5,
   "id": "1e75ad8b",
   "metadata": {},
   "outputs": [
    {
     "name": "stdout",
     "output_type": "stream",
     "text": [
      "[[nan  2.  3.]\n",
      " [ 4. nan  6.]\n",
      " [10. nan  9.]]\n"
     ]
    }
   ],
   "source": [
    "B = np.array([[np.nan, 2, 3], [4, np.nan, 6], [10, np.nan, 9]])\n",
    "print(B)"
   ]
  },
  {
   "cell_type": "code",
   "execution_count": 6,
   "id": "5a5d4bc6",
   "metadata": {},
   "outputs": [
    {
     "name": "stdout",
     "output_type": "stream",
     "text": [
      "[[ 7.   2.   3. ]\n",
      " [ 4.   3.5  6. ]\n",
      " [10.   3.5  9. ]]\n"
     ]
    }
   ],
   "source": [
    "B = imp_mean.transform(B)\n",
    "print(imp_mean.transform(B))"
   ]
  },
  {
   "cell_type": "code",
   "execution_count": null,
   "id": "8b267576",
   "metadata": {},
   "outputs": [],
   "source": []
  },
  {
   "cell_type": "code",
   "execution_count": 7,
   "id": "f45c7520",
   "metadata": {},
   "outputs": [],
   "source": [
    "from sklearn.preprocessing import PolynomialFeatures"
   ]
  },
  {
   "cell_type": "markdown",
   "id": "f8349562",
   "metadata": {},
   "source": [
    "$(X_1, X_2, X_3)$ gets transformed to: $(1, X_{1}, X_{2}, X_{3}, X_{1}^2, X_1X_2, X_1X_3, X_2^2, X_2X_3, X_3^2)$ meaning that we got an bias, squared terms and all interactions. \n"
   ]
  },
  {
   "cell_type": "code",
   "execution_count": 8,
   "id": "7ca8c133",
   "metadata": {},
   "outputs": [
    {
     "data": {
      "text/plain": [
       "array([[  1.  ,   7.  ,   2.  ,   3.  ,  49.  ,  14.  ,  21.  ,   4.  ,\n",
       "          6.  ,   9.  ],\n",
       "       [  1.  ,   4.  ,   3.5 ,   6.  ,  16.  ,  14.  ,  24.  ,  12.25,\n",
       "         21.  ,  36.  ],\n",
       "       [  1.  ,  10.  ,   3.5 ,   9.  , 100.  ,  35.  ,  90.  ,  12.25,\n",
       "         31.5 ,  81.  ]])"
      ]
     },
     "execution_count": 8,
     "metadata": {},
     "output_type": "execute_result"
    }
   ],
   "source": [
    "poly = PolynomialFeatures(2)\n",
    "poly.fit_transform(B)"
   ]
  },
  {
   "cell_type": "markdown",
   "id": "00083e21",
   "metadata": {},
   "source": [
    "# Doing It in “One Step” With a Pipeline"
   ]
  },
  {
   "cell_type": "code",
   "execution_count": 9,
   "id": "74ac3b4c",
   "metadata": {},
   "outputs": [
    {
     "data": {
      "text/plain": [
       "array([[  1.  ,   7.  ,   2.  ,   3.  ,  49.  ,  14.  ,  21.  ,   4.  ,\n",
       "          6.  ,   9.  ],\n",
       "       [  1.  ,   4.  ,   3.5 ,   6.  ,  16.  ,  14.  ,  24.  ,  12.25,\n",
       "         21.  ,  36.  ],\n",
       "       [  1.  ,  10.  ,   5.  ,   9.  , 100.  ,  50.  ,  90.  ,  25.  ,\n",
       "         45.  ,  81.  ]])"
      ]
     },
     "execution_count": 9,
     "metadata": {},
     "output_type": "execute_result"
    }
   ],
   "source": [
    "from sklearn.pipeline import Pipeline\n",
    "\n",
    "my_pipe = Pipeline([\n",
    "        ('missing_values', SimpleImputer(missing_values=np.nan, strategy='mean')),\n",
    "        ('polynomial', PolynomialFeatures(2)),\n",
    "    ])\n",
    "\n",
    "C = my_pipe.fit_transform(A)\n",
    "C"
   ]
  },
  {
   "cell_type": "code",
   "execution_count": null,
   "id": "f42b39c2",
   "metadata": {},
   "outputs": [],
   "source": []
  }
 ],
 "metadata": {
  "kernelspec": {
   "display_name": "Python 3 (ipykernel)",
   "language": "python",
   "name": "python3"
  },
  "language_info": {
   "codemirror_mode": {
    "name": "ipython",
    "version": 3
   },
   "file_extension": ".py",
   "mimetype": "text/x-python",
   "name": "python",
   "nbconvert_exporter": "python",
   "pygments_lexer": "ipython3",
   "version": "3.8.0"
  }
 },
 "nbformat": 4,
 "nbformat_minor": 5
}
