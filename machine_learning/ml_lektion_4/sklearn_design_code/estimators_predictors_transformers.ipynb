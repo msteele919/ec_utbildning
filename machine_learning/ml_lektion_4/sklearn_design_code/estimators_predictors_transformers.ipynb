{
 "cells": [
  {
   "cell_type": "markdown",
   "id": "710e3a4e",
   "metadata": {},
   "source": [
    "# Estimators, Predictors, and Transformers"
   ]
  },
  {
   "cell_type": "code",
   "execution_count": 2,
   "id": "12781f8f",
   "metadata": {},
   "outputs": [],
   "source": [
    "import numpy as np\n",
    "import pandas as pd\n",
    "import matplotlib.pyplot as plt \n",
    "\n",
    "# StandardScaler and LinearRegression will be imported below for pedagogical reasons, \n",
    "# otherwise they would have been placed here. \n",
    "from sklearn.preprocessing import StandardScaler\n",
    "from sklearn.linear_model import LinearRegression"
   ]
  },
  {
   "cell_type": "markdown",
   "id": "23b5b7dd",
   "metadata": {},
   "source": [
    "# Generating Random Data"
   ]
  },
  {
   "cell_type": "code",
   "execution_count": 18,
   "id": "2660974f",
   "metadata": {},
   "outputs": [
    {
     "data": {
      "text/plain": [
       "<matplotlib.collections.PathCollection at 0x7fbcd0bfb9d0>"
      ]
     },
     "execution_count": 18,
     "metadata": {},
     "output_type": "execute_result"
    },
    {
     "data": {
      "image/png": "[encoded data removed]",
      "text/plain": [
       "<Figure size 640x480 with 1 Axes>"
      ]
     },
     "metadata": {},
     "output_type": "display_data"
    }
   ],
   "source": [
    "np.random.seed(42)\n",
    "X = 2 * np.random.rand(100, 1)\n",
    "y = 4 + 3 * X + np.random.randn(100, 1)\n",
    "\n",
    "plt.scatter(X, y)"
   ]
  },
  {
   "cell_type": "markdown",
   "id": "218b40b7",
   "metadata": {},
   "source": [
    "# Transforming Our Data by Standardizing to Zero Mean and Unit Variance"
   ]
  },
  {
   "cell_type": "code",
   "execution_count": 4,
   "id": "85924ff1",
   "metadata": {},
   "outputs": [
    {
     "name": "stdout",
     "output_type": "stream",
     "text": [
      "0.9403614867564187\n",
      "0.35045980067831656\n"
     ]
    }
   ],
   "source": [
    "print(np.mean(X))\n",
    "print(np.var(X))"
   ]
  },
  {
   "cell_type": "code",
   "execution_count": 5,
   "id": "35553e5c",
   "metadata": {},
   "outputs": [
    {
     "data": {
      "text/plain": [
       "StandardScaler()"
      ]
     },
     "execution_count": 5,
     "metadata": {},
     "output_type": "execute_result"
    }
   ],
   "source": [
    "from sklearn.preprocessing import StandardScaler\n",
    "\n",
    "scaler = StandardScaler()\n",
    "scaler.fit(X)"
   ]
  },
  {
   "cell_type": "code",
   "execution_count": 6,
   "id": "f5ea0314",
   "metadata": {},
   "outputs": [
    {
     "name": "stdout",
     "output_type": "stream",
     "text": [
      "[0.94036149]\n",
      "[0.3504598]\n",
      "True\n"
     ]
    }
   ],
   "source": [
    "# Learned parameters are accessed by using an underscore suffix.\n",
    "print(scaler.mean_)\n",
    "print(scaler.var_)\n",
    "\n",
    "# Hyperparameters are accessible as public attributes. \n",
    "# with_std is by default set to True, check the documentation. \n",
    "print(scaler.with_std)"
   ]
  },
  {
   "cell_type": "code",
   "execution_count": 7,
   "id": "6c1df462",
   "metadata": {},
   "outputs": [],
   "source": [
    "X_transformed = scaler.transform(X)"
   ]
  },
  {
   "cell_type": "code",
   "execution_count": 22,
   "id": "017fff63",
   "metadata": {},
   "outputs": [
    {
     "name": "stdout",
     "output_type": "stream",
     "text": [
      "-0.000000\n",
      "1.0000000000000002\n"
     ]
    }
   ],
   "source": [
    "print(\"{:.6f}\".format(np.mean(X_transformed))) # want to use:.6 to get 6 decimals so we get a more clearer printout\n",
    "print(np.var(X_transformed))"
   ]
  },
  {
   "cell_type": "code",
   "execution_count": 9,
   "id": "1ca244a9",
   "metadata": {},
   "outputs": [],
   "source": [
    "# the fit_transform method lets you combine both steps of fitting and transforming your data into one. \n",
    "scaler_2 = StandardScaler()\n",
    "X_transformed_2 = scaler_2.fit_transform(X)"
   ]
  },
  {
   "cell_type": "code",
   "execution_count": 10,
   "id": "a8fe1062",
   "metadata": {},
   "outputs": [
    {
     "name": "stdout",
     "output_type": "stream",
     "text": [
      "-0.000000\n",
      "1.0000000000000002\n"
     ]
    }
   ],
   "source": [
    "print(\"{:.6f}\".format(np.mean(X_transformed_2)))\n",
    "print(np.var(X_transformed_2))"
   ]
  },
  {
   "cell_type": "markdown",
   "id": "a70ebf9a",
   "metadata": {},
   "source": [
    "# Estimating Our Model and Inspecting Parameters"
   ]
  },
  {
   "cell_type": "code",
   "execution_count": 11,
   "id": "8565d2c3",
   "metadata": {},
   "outputs": [
    {
     "data": {
      "text/plain": [
       "LinearRegression()"
      ]
     },
     "execution_count": 11,
     "metadata": {},
     "output_type": "execute_result"
    }
   ],
   "source": [
    "from sklearn.linear_model import LinearRegression\n",
    "\n",
    "# Demonstrating that we initialize and then fit our model.\n",
    "lin_reg = LinearRegression(fit_intercept=True)\n",
    "lin_reg.fit(X_transformed, y) #realize that we use X_transformed and not X, so the coefficients are different and not near 4 and 3 "
   ]
  },
  {
   "cell_type": "code",
   "execution_count": 12,
   "id": "2bb2c8d3",
   "metadata": {},
   "outputs": [
    {
     "data": {
      "text/plain": [
       "{'copy_X': True,\n",
       " 'fit_intercept': True,\n",
       " 'n_jobs': None,\n",
       " 'normalize': 'deprecated',\n",
       " 'positive': False}"
      ]
     },
     "execution_count": 12,
     "metadata": {},
     "output_type": "execute_result"
    }
   ],
   "source": [
    "# Checking our Hyper-parameters and their corresponding default values in this case. \n",
    "lin_reg.get_params()"
   ]
  },
  {
   "cell_type": "code",
   "execution_count": 13,
   "id": "f4a13c8e",
   "metadata": {
    "scrolled": true
   },
   "outputs": [
    {
     "name": "stdout",
     "output_type": "stream",
     "text": [
      "[6.8200041] [[1.6398973]]\n"
     ]
    }
   ],
   "source": [
    "# Learned parameters are accessed using a suffix. \n",
    "print(lin_reg.intercept_, lin_reg.coef_)"
   ]
  },
  {
   "cell_type": "markdown",
   "id": "c21f5597",
   "metadata": {},
   "source": [
    "# Making Predictions With Our Model"
   ]
  },
  {
   "cell_type": "code",
   "execution_count": 14,
   "id": "96481ad8",
   "metadata": {},
   "outputs": [],
   "source": [
    "X_new = np.array([[0], [1], [2]])"
   ]
  },
  {
   "cell_type": "code",
   "execution_count": 15,
   "id": "df7939c1",
   "metadata": {},
   "outputs": [
    {
     "name": "stdout",
     "output_type": "stream",
     "text": [
      "[[4.21509616]\n",
      " [6.98520954]\n",
      " [9.75532293]]\n"
     ]
    }
   ],
   "source": [
    "# lin_reg is now used as a predictor. \n",
    "y_pred_lr = lin_reg.predict(scaler.transform(X_new))  # Notice, we only transform new data, no fitting is done. \n",
    "print(y_pred_lr)"
   ]
  },
  {
   "cell_type": "code",
   "execution_count": 23,
   "id": "19983488",
   "metadata": {},
   "outputs": [
    {
     "data": {
      "text/plain": [
       "<matplotlib.legend.Legend at 0x7fbce2b9bd00>"
      ]
     },
     "execution_count": 23,
     "metadata": {},
     "output_type": "execute_result"
    },
    {
     "data": {
      "image/png": "[encoded data removed]",
      "text/plain": [
       "<Figure size 640x480 with 1 Axes>"
      ]
     },
     "metadata": {},
     "output_type": "display_data"
    }
   ],
   "source": [
    "fig, ax = plt.subplots()\n",
    "ax.set_title(\"Linear Regression\")\n",
    "ax.scatter(X, y, label = \"data\")\n",
    "ax.plot(X_new, y_pred_lr, 'r', label = 'Predictions') # have values that we will predict. \n",
    "ax.legend()"
   ]
  },
  {
   "cell_type": "code",
   "execution_count": null,
   "id": "f8d53b98",
   "metadata": {},
   "outputs": [],
   "source": []
  }
 ],
 "metadata": {
  "kernelspec": {
   "display_name": "Python 3 (ipykernel)",
   "language": "python",
   "name": "python3"
  },
  "language_info": {
   "codemirror_mode": {
    "name": "ipython",
    "version": 3
   },
   "file_extension": ".py",
   "mimetype": "text/x-python",
   "name": "python",
   "nbconvert_exporter": "python",
   "pygments_lexer": "ipython3",
   "version": "3.9.13"
  }
 },
 "nbformat": 4,
 "nbformat_minor": 5
}
